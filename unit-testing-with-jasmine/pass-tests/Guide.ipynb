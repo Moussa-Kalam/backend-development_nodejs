{
 "cells": [
  {
   "attachments": {},
   "cell_type": "markdown",
   "metadata": {
    "editable": true
   },
   "source": [
    "## Instructions\n",
    "\n",
    "Configure this project to work with TypeScript and Jasmine. \n",
    "\n",
    "Your task is to write at least one spec per function used on the `index.ts` file. \n",
    "- There should be at least 7 specs. \n",
    "- You must use at least 5 different matchers for your tests. \n",
    "- All of your specs can be on 1 spec file. \n",
    "\n",
    "Make sure to build your TypeScript project and make certain all of your tests pass. \n"
   ]
  }
 ],
 "metadata": {
  "kernelspec": {
   "display_name": "Python 3",
   "language": "python",
   "name": "python3"
  },
  "language_info": {
   "codemirror_mode": {
    "name": "ipython",
    "version": 3
   },
   "file_extension": ".py",
   "mimetype": "text/x-python",
   "name": "python",
   "nbconvert_exporter": "python",
   "pygments_lexer": "ipython3",
   "version": "3.6.3"
  },
  "ulab_nb_type": "guided"
 },
 "nbformat": 4,
 "nbformat_minor": 4
}
