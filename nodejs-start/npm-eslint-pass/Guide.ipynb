{
 "cells": [
  {
   "cell_type": "markdown",
   "metadata": {
    "editable": true
   },
   "source": [
    "# Instructions\n",
    "\n",
    "Your goal is to set up an NPM project which will lint and prettify the code in `index.js`. \n",
    "\n",
    "You are being supplied the configuration files for EsLint and Prettier `./.prettierrc` & `./.eslintrc`. Run `ls -a` in terminal to see invisible files are there. You do not need to make any changes to them.  \n",
    "\n",
    "1. Configure the NPM project\n",
    "2. Install the proper node modules. \n",
    "   - `prettier` ***Note:*** you'll need to use Prettier version 2.5.1\n",
    "   - `eslint` version - 8.8.0 \n",
    "   - `eslint-config-prettier` to turn off ESLint reult that conflict with Prettier(compatible version: 8.3.0)\n",
    "   - `eslint-plugin-prettier@4.0.0` which runs Prettier as an ESLint rule\n",
    "3. Write scripts that run `eslint` and `prettier`. \n",
    "4. Run the scripts to find the errors in `index.js`\n",
    "5. Fix the errors and run the scripts again until the code is clean.\n",
    "\n"
   ]
  }
 ],
 "metadata": {
  "kernelspec": {
   "display_name": "Python 3.10.6 64-bit",
   "language": "python",
   "name": "python3"
  },
  "language_info": {
   "codemirror_mode": {
    "name": "ipython",
    "version": 3
   },
   "file_extension": ".py",
   "mimetype": "text/x-python",
   "name": "python",
   "nbconvert_exporter": "python",
   "pygments_lexer": "ipython3",
   "version": "3.10.6"
  },
  "ulab_nb_type": "guided",
  "vscode": {
   "interpreter": {
    "hash": "916dbcbb3f70747c44a77c7bcd40155683ae19c65e1c03b4aa3499c5328201f1"
   }
  }
 },
 "nbformat": 4,
 "nbformat_minor": 4
}
